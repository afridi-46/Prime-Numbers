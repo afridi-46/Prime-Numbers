{
  "nbformat": 4,
  "nbformat_minor": 0,
  "metadata": {
    "colab": {
      "provenance": []
    },
    "kernelspec": {
      "name": "python3",
      "display_name": "Python 3"
    },
    "language_info": {
      "name": "python"
    }
  },
  "cells": [
    {
      "cell_type": "code",
      "source": [
        "num = int(input(\"Enter a number: \"))\n",
        "for i in range(2,num):\n",
        "       if num % i == 0:\n",
        "           print(\"Not prime\")\n",
        "           break\n",
        "else:\n",
        "   print(\"prime\")"
      ],
      "metadata": {
        "colab": {
          "base_uri": "https://localhost:8080/"
        },
        "id": "5MJmffazzSnX",
        "outputId": "62048f40-ca66-45e6-9b92-b4d8c5b097e1"
      },
      "execution_count": 50,
      "outputs": [
        {
          "output_type": "stream",
          "name": "stdout",
          "text": [
            "Enter a number: 7\n",
            "prime\n"
          ]
        }
      ]
    }
  ]
}